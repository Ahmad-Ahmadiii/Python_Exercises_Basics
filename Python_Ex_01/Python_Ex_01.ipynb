{
 "cells": [
  {
   "cell_type": "markdown",
   "metadata": {},
   "source": [
    "## (Python Tutorial) \n",
    "#### from (Python  for  everybody books) by Prof Charles Severance\n",
    "#### (coding by: Ahmad Ahmadi) \n",
    "___\n",
    "___"
   ]
  },
  {
   "cell_type": "markdown",
   "metadata": {},
   "source": [
    "### Exercise 1: \n",
    "#### Level : <span style='color:green'> Basic </span>\n",
    "<span style='color:Blue'> 1) Write a programm to prompt the user for hours and rate per hour to compute gross pay </span>\n",
    "\n",
    "#### <span style='color:red'>Hint :</span>\n",
    "use float () to change string to float type. "
   ]
  },
  {
   "cell_type": "code",
   "execution_count": 1,
   "metadata": {},
   "outputs": [
    {
     "name": "stdout",
     "output_type": "stream",
     "text": [
      "Enter hour: 35\n",
      "Enter rate per hour: 2.75\n",
      "your pay is:  96.25\n"
     ]
    }
   ],
   "source": [
    "# gross pay program:\n",
    "\n",
    "# prompt for hour and rate per hour:\n",
    "hour = input('Enter hour: ')\n",
    "rate_hour = input ('Enter rate per hour: ')\n",
    "\n",
    "# convert the string to float:\n",
    "hour = float (hour)\n",
    "rate_hour = float (rate_hour)\n",
    "\n",
    "# Calcualtions:\n",
    "pay = hour * rate_hour\n",
    "print ('your pay is: ', pay)"
   ]
  },
  {
   "cell_type": "markdown",
   "metadata": {},
   "source": [
    "___\n",
    "* <span style='color:blue'>There is a Compact form of above Code: </span>\n",
    "___"
   ]
  },
  {
   "cell_type": "code",
   "execution_count": 2,
   "metadata": {},
   "outputs": [
    {
     "name": "stdout",
     "output_type": "stream",
     "text": [
      "Enter hour: 35\n",
      "Enter rate per hour: 2.75\n",
      "your gross pay is:  96.25\n"
     ]
    }
   ],
   "source": [
    "# gross pay program: (Compact Form)\n",
    "\n",
    "# prompt for hour and rate per hour and convert to float simultaneously\n",
    "hour = float(input('Enter hour: '))\n",
    "rate_hour = float(input('Enter rate per hour: '))\n",
    "\n",
    "# Calculations and printing simultaneously\n",
    "print('your gross pay is: ', hour * rate_hour)"
   ]
  },
  {
   "cell_type": "code",
   "execution_count": null,
   "metadata": {},
   "outputs": [],
   "source": []
  }
 ],
 "metadata": {
  "kernelspec": {
   "display_name": "Python 3",
   "language": "python",
   "name": "python3"
  },
  "language_info": {
   "codemirror_mode": {
    "name": "ipython",
    "version": 3
   },
   "file_extension": ".py",
   "mimetype": "text/x-python",
   "name": "python",
   "nbconvert_exporter": "python",
   "pygments_lexer": "ipython3",
   "version": "3.8.5"
  }
 },
 "nbformat": 4,
 "nbformat_minor": 4
}
