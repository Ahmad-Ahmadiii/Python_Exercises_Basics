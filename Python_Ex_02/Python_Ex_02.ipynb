{
 "cells": [
  {
   "cell_type": "markdown",
   "metadata": {},
   "source": [
    "## (Python Tutorial) \n",
    "#### from (Python  for  everybody books) by Prof Charles Severance\n",
    "#### (coding by: Ahmad Ahmadi) \n",
    "___\n",
    "___"
   ]
  },
  {
   "cell_type": "markdown",
   "metadata": {},
   "source": [
    "### Exercise 2: \n",
    "#### Level : <span style='color:green'> Basic </span>\n",
    " 1) Write a program to prompt the user for hours and rate per hour to compute gross pay. Pay the hourly rate for the hours up to 40 and 1.5 times the hourly rate for all hours worked above 40 hours. Use 45 hours and a rate of 10.50 per hour to test the program (the pay should be 498.75).\n",
    "\n",
    "#### <span style='color:red'>Hint :</span>\n",
    "use float () to change string to float type. "
   ]
  },
  {
   "cell_type": "code",
   "execution_count": 1,
   "metadata": {},
   "outputs": [
    {
     "name": "stdout",
     "output_type": "stream",
     "text": [
      "Enter hour: 45\n",
      "Enter rate per hour: 10.50\n",
      "your pay is: 498.75\n"
     ]
    }
   ],
   "source": [
    "# gross pay program:\n",
    "\n",
    "# prompt for hour and rate per hour:\n",
    "hour = input('Enter hour: ')\n",
    "rate_hour = input ('Enter rate per hour: ')\n",
    "\n",
    "# convert the string to float:\n",
    "hour = float (hour)\n",
    "rate_hour = float (rate_hour)\n",
    "\n",
    "# Calcualtions:\n",
    "## if condition:\n",
    "if hour <= 40:\n",
    "    pay = hour * rate_hour\n",
    "else:\n",
    "    pay = (40 * rate_hour) + (hour - 40) * (1.5 * rate_hour)\n",
    "# printining:\n",
    "print ('your pay is:', pay)"
   ]
  }
 ],
 "metadata": {
  "kernelspec": {
   "display_name": "Python 3",
   "language": "python",
   "name": "python3"
  },
  "language_info": {
   "codemirror_mode": {
    "name": "ipython",
    "version": 3
   },
   "file_extension": ".py",
   "mimetype": "text/x-python",
   "name": "python",
   "nbconvert_exporter": "python",
   "pygments_lexer": "ipython3",
   "version": "3.8.5"
  }
 },
 "nbformat": 4,
 "nbformat_minor": 4
}
