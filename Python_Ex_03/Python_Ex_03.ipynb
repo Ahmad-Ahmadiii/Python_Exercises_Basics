{
 "cells": [
  {
   "cell_type": "markdown",
   "metadata": {},
   "source": [
    "## (Python Tutorial) \n",
    "#### from (Python  for  everybody books) by Prof Charles Severance\n",
    "#### (coding by: Ahmad Ahmadi) \n",
    "___\n",
    "___"
   ]
  },
  {
   "cell_type": "markdown",
   "metadata": {},
   "source": [
    "### Exercise 3: \n",
    "#### Level : <span style='color:green'> Basic </span>\n",
    " 1) Write a program to prompt for a score between 0.0 and 1.0. If the score is out of range, print an error. If the score is between 0.0 and 1.0, print a grade using the following table:\n",
    "Score Grade\n",
    "- score > 0.9 = A\n",
    "- score > 0.8 = B\n",
    "- score = 0.7 = C\n",
    "- score = 0.6 = D\n",
    "- score < 0.6 = F\n",
    "\n",
    "If the user enters a value out of range, print a suitable error message and exit. For the test, enter a score of 0.85.\n",
    "\n",
    "#### <span style='color:red'>Hint :</span>\n",
    "use float () to change string to float type. "
   ]
  },
  {
   "cell_type": "code",
   "execution_count": 1,
   "metadata": {},
   "outputs": [
    {
     "name": "stdout",
     "output_type": "stream",
     "text": [
      "Enter your score: (0<score<1)\n",
      "Enter your score:0.85\n",
      "your score = B\n"
     ]
    }
   ],
   "source": [
    "# Evaluation Program:\n",
    "\n",
    "# input for score, and converting to float number\n",
    "print('Enter your score: (0<score<1)')\n",
    "score = input('Enter your score:')\n",
    "score = float(score)\n",
    "\n",
    "# if statement for catching error of out of range\n",
    "if score < 0 or score > 1:\n",
    "    print(\"your number is our of range.\")\n",
    "    print('please enter a number between 0 and 1')\n",
    "    \n",
    "# Condtion 1:\n",
    "elif score > 0.9:\n",
    "    print ('your score = A')\n",
    "# Condition 2:    \n",
    "elif 0.8<= score < 0.9:\n",
    "    print('your score = B')\n",
    "# Condition 3:    \n",
    "elif 0.7 <= score < 0.8:\n",
    "    print ('your score = C')\n",
    "# Condition 4:    \n",
    "elif 0.6 <= score < 0.7:\n",
    "    print('your score = D')\n",
    "# Condition 5:   \n",
    "elif score <0.6:\n",
    "    print('your score =F')"
   ]
  }
 ],
 "metadata": {
  "kernelspec": {
   "display_name": "Python 3",
   "language": "python",
   "name": "python3"
  },
  "language_info": {
   "codemirror_mode": {
    "name": "ipython",
    "version": 3
   },
   "file_extension": ".py",
   "mimetype": "text/x-python",
   "name": "python",
   "nbconvert_exporter": "python",
   "pygments_lexer": "ipython3",
   "version": "3.8.5"
  }
 },
 "nbformat": 4,
 "nbformat_minor": 4
}
