{
 "cells": [
  {
   "cell_type": "markdown",
   "metadata": {},
   "source": [
    "## (Python Tutorial) \n",
    "#### from (Python  for  everybody books) by Prof Charles Severance\n",
    "#### (coding by: Ahmad Ahmadi) \n",
    "___\n",
    "___"
   ]
  },
  {
   "cell_type": "markdown",
   "metadata": {},
   "source": [
    "### Exercise 4: \n",
    "#### Level : <span style='color:green'> Basic </span>\n",
    " 1) Write a program to prompt the user for hours and rate per hour using input to compute gross pay. Pay should be the normal rate for hours up to 40 and time-and-a-half for the hourly rate for all hours worked above 40 hours. Put the logic to do the computation of pay in a function called computepay() and use the function to do the computation. The function should return a value. Use 45 hours and a rate of 10.50 per hour to test the program (the pay should be 498.75). You should use input to read a string and float() to convert the string to a number. Do not worry about error checking the user input unless you want to - you can assume the user types numbers properly. Do not name your variable sum or use the sum() function.\n",
    "___\n",
    "#### <span style='color:red'>Hint :</span>\n",
    "\n",
    "* you need to define Function in this exercise.\n",
    "* do not name your variable sum (it's a reserved word in python)\n",
    "* do not use sum() function.\n",
    "\n",
    "#### <span style='color:green'> Note: </span>\n",
    "* you can use triple double qoute (\"\"\") to add description of your function.\n",
    "___"
   ]
  },
  {
   "cell_type": "code",
   "execution_count": 1,
   "metadata": {},
   "outputs": [],
   "source": [
    "# Defining Function:\n",
    "def comput_pay(hour, rate):\n",
    "    \"\"\"\n",
    "    function input:\n",
    "                hour -- float number >> hours entered by user\n",
    "                rate -- float number >> amount of rate per hour\n",
    "    return:\n",
    "                pay --  result of  the function\n",
    "    \"\"\"\n",
    "    \n",
    "    if hour <= 40:\n",
    "        pay = hour * rate\n",
    "    elif hour > 40:\n",
    "        pay = (40 * rate) + (hour - 40) * rate * 1.5\n",
    "    \n",
    "    return pay"
   ]
  },
  {
   "cell_type": "code",
   "execution_count": 2,
   "metadata": {},
   "outputs": [
    {
     "name": "stdout",
     "output_type": "stream",
     "text": [
      "Enter hour: 45\n",
      "Enter rate hour: 10.50\n"
     ]
    }
   ],
   "source": [
    "# gross pay program:\n",
    "# input for hour and rate, and converting to float type.\n",
    "hour = float(input('Enter hour: '))\n",
    "hour_rate =float(input('Enter rate hour: '))"
   ]
  },
  {
   "cell_type": "code",
   "execution_count": 3,
   "metadata": {},
   "outputs": [
    {
     "name": "stdout",
     "output_type": "stream",
     "text": [
      "your pay is = 498.75\n"
     ]
    }
   ],
   "source": [
    "# using the above function:\n",
    "\n",
    "# calling the defined function by writing its name.\n",
    "pay_1 = comput_pay(hour, hour_rate)\n",
    "\n",
    "# printing result:\n",
    "print('your pay is =', pay_1)"
   ]
  }
 ],
 "metadata": {
  "kernelspec": {
   "display_name": "Python 3",
   "language": "python",
   "name": "python3"
  },
  "language_info": {
   "codemirror_mode": {
    "name": "ipython",
    "version": 3
   },
   "file_extension": ".py",
   "mimetype": "text/x-python",
   "name": "python",
   "nbconvert_exporter": "python",
   "pygments_lexer": "ipython3",
   "version": "3.8.5"
  }
 },
 "nbformat": 4,
 "nbformat_minor": 4
}
