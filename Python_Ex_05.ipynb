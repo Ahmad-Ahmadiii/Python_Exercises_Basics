{
 "cells": [
  {
   "cell_type": "markdown",
   "metadata": {},
   "source": [
    "## (Python Tutorial) \n",
    "#### from (Python  for  everybody books) by Prof Charles Severance\n",
    "#### (coding by: Ahmad Ahmadi) \n",
    "___\n",
    "___"
   ]
  },
  {
   "cell_type": "markdown",
   "metadata": {},
   "source": [
    "### Exercise 5: \n",
    "#### Level : <span style='color:green'> Basic </span>\n",
    " 1) Write a program that repeatedly prompts a user for integer numbers until the user enters 'done'. Once 'done' is entered, print out the largest and smallest of the numbers. If the user enters anything other than a valid number catch it with a try/except and put out an appropriate message and ignore the number. Enter 7, 2, bob, 10, and 4 to test your answer.\n",
    "___\n",
    "#### <span style='color:red'>Hint :</span>\n",
    "\n",
    "* you can use None value in this exercise.\n",
    "\n",
    "#### <span style='color:green'> Note: </span>\n",
    "\n",
    "* \\n (back slash + n) is new line charachter and starts new line.(similar to Enter key on keyboard)\n",
    "\n",
    "___"
   ]
  },
  {
   "cell_type": "code",
   "execution_count": 1,
   "metadata": {},
   "outputs": [
    {
     "name": "stdout",
     "output_type": "stream",
     "text": [
      "Enter a number:7\n",
      "Enter a number:2\n",
      "Enter a number:bob\n",
      "you've entered wrong value!\n",
      "Enter a number:10\n",
      "Enter a number:4\n",
      "Enter a number:done\n",
      "______________\n",
      "max number= 10 \n",
      "min number= 2\n"
     ]
    }
   ],
   "source": [
    "# Finding Maximum and Minimum number:\n",
    "\n",
    "smallest_num = None\n",
    "biggest_num = None\n",
    "\n",
    "# prompt for input number until number = 'done'\n",
    "# try & except block to catch string to float error\n",
    "while True:\n",
    "    number = input('Enter a number:')\n",
    "    if number == 'done':\n",
    "        break\n",
    "    try:\n",
    "        number = int(number)\n",
    "    except:\n",
    "        print(\"you've entered wrong value!\")\n",
    "        continue\n",
    "# if statement:     \n",
    "    if smallest_num is None:\n",
    "        smallest_num = number\n",
    "    elif number < smallest_num:\n",
    "        smallest_num = number\n",
    "# if statement:       \n",
    "    if biggest_num is None:\n",
    "        biggest_num = number\n",
    "    elif number > biggest_num:\n",
    "        biggest_num = number\n",
    "# printing results:\n",
    "print('______________')\n",
    "print('max number=', biggest_num, '\\nmin number=', smallest_num)     "
   ]
  },
  {
   "cell_type": "code",
   "execution_count": null,
   "metadata": {},
   "outputs": [],
   "source": []
  }
 ],
 "metadata": {
  "kernelspec": {
   "display_name": "Python 3",
   "language": "python",
   "name": "python3"
  },
  "language_info": {
   "codemirror_mode": {
    "name": "ipython",
    "version": 3
   },
   "file_extension": ".py",
   "mimetype": "text/x-python",
   "name": "python",
   "nbconvert_exporter": "python",
   "pygments_lexer": "ipython3",
   "version": "3.8.5"
  }
 },
 "nbformat": 4,
 "nbformat_minor": 4
}
