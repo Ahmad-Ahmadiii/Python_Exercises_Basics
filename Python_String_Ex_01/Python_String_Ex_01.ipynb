{
 "cells": [
  {
   "cell_type": "markdown",
   "metadata": {},
   "source": [
    "## (Python Tutorial) \n",
    "#### from (Python  for  everybody books) by Prof Charles Severance\n",
    "#### (coding by: Ahmad Ahmadi) \n",
    "___\n",
    "___"
   ]
  },
  {
   "cell_type": "markdown",
   "metadata": {},
   "source": [
    "### Exercise 1: \n",
    "#### Level : <span style='color:green'> Basic </span>\n",
    " 1) Write code using find() and string slicing to extract the number at the end of the line below. Convert the extracted value to a floating point number and print it out.\n",
    " \n",
    " [line = X-DSPAM-Confidence:    0.8475]\n",
    "___\n",
    "#### <span style='color:red'>Hint :</span>\n",
    "\n",
    "* **find() method**:  string.find(value, start, end) -- return the index number in which value exist.\n",
    "* here value is white space (' ')\n",
    "\n",
    "#### <span style='color:green'> Note: </span>\n",
    "\n",
    "\n",
    "\n",
    "___"
   ]
  },
  {
   "cell_type": "code",
   "execution_count": 1,
   "metadata": {},
   "outputs": [
    {
     "name": "stdout",
     "output_type": "stream",
     "text": [
      "the extracted number is: 0.8475\n"
     ]
    }
   ],
   "source": [
    "# Finding number in a given text line:\n",
    "# text line:\n",
    "text_line = 'X-DSPAM-Confidence: 0.8475'\n",
    "\n",
    "# finding (0) index using find () method:\n",
    "first_digit_index = text_line.find(' ') + 1      # +1 to reach 0 character in 0.8475\n",
    "\n",
    "# to extract whole number:\n",
    "number = text_line[first_digit_index:]        # using [start:end] to slice the string\n",
    "\n",
    "# converting string number to float number:\n",
    "number = float(number)\n",
    "\n",
    "# printing result\n",
    "print('the extracted number is:', number)"
   ]
  }
 ],
 "metadata": {
  "kernelspec": {
   "display_name": "Python 3",
   "language": "python",
   "name": "python3"
  },
  "language_info": {
   "codemirror_mode": {
    "name": "ipython",
    "version": 3
   },
   "file_extension": ".py",
   "mimetype": "text/x-python",
   "name": "python",
   "nbconvert_exporter": "python",
   "pygments_lexer": "ipython3",
   "version": "3.8.5"
  }
 },
 "nbformat": 4,
 "nbformat_minor": 4
}
