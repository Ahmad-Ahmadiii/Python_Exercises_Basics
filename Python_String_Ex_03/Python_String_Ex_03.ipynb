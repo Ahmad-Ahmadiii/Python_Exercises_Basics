{
 "cells": [
  {
   "cell_type": "markdown",
   "metadata": {},
   "source": [
    "## (Python Tutorial) \n",
    "#### from (Python  for  everybody books) by Prof Charles Severance\n",
    "#### (coding by: Ahmad Ahmadi) \n",
    "___\n",
    "___"
   ]
  },
  {
   "cell_type": "markdown",
   "metadata": {},
   "source": [
    "### Exercise 3: \n",
    "#### Level : <span style='color:green'> Basic </span>\n",
    " 1) Write a program that prompts for a file name( **file name = mbox_short.txt**), then opens that file and reads through the file, looking for lines of the form:\n",
    " \n",
    "| Form: |\n",
    "| :--- |\n",
    "| X-DSPAM-Confidence:    0.8475 |\n",
    "\n",
    " then, count these lines and extract the floating point values from each of the lines and compute the average of those values and produce suitable output. **Do not use the sum() function or a variable named sum in your solution.**\n",
    "___\n",
    "#### <span style='color:red'>Hint :</span>\n",
    "\n",
    "* **open():** open(file name, mode='r') -- make a handle to that specific file\n",
    "* here file name.txt = words.txt\n",
    "* mode = 'r' means open a file for reading.\n",
    "* mode = 'w' means open a file for writing.\n",
    "* mode = 'a' means open a file for appending.\n",
    "* **string.startswith():** startswith(value, start, end) -- returns True/False the string starts with the specified value.\n",
    "* here value = **'X-DSPAM-Confidence:'**\n",
    "___"
   ]
  },
  {
   "cell_type": "code",
   "execution_count": 1,
   "metadata": {},
   "outputs": [
    {
     "name": "stdout",
     "output_type": "stream",
     "text": [
      "Ener file name: mbox_short\n",
      "\n",
      "From stephen.marquard@uct.ac.za Sat Jan  5 09:14:16 2008\n",
      "\n",
      "Return-Path: <postmaster@collab.sakaiproject.org>\n",
      "\n",
      "Received: from murder (mail.umich.edu [141.211.14.90])\n",
      "\n",
      "\t by frankenstein.mail.umich.edu (Cyrus v2.3.8) with LMTPA;\n",
      "\n",
      "\t Sat, 05 Jan 2008 09:14:16 -0500\n",
      "\n",
      "X-Sieve: CMU Sieve 2.3\n",
      "\n",
      "Received: from murder ([unix socket])\n",
      "\n",
      "\t by mail.umich.edu (Cyrus v2.2.12) with LMTPA;\n",
      "\n",
      "\t Sat, 05 Jan 2008 09:14:16 -0500\n",
      "\n",
      "Received: from holes.mr.itd.umich.edu (holes.mr.itd.umich.edu [141.211.14.79])\n",
      "\n",
      "\tby flawless.mail.umich.edu () with ESMTP id m05EEFR1013674;\n",
      "\n"
     ]
    }
   ],
   "source": [
    "# reading a txt file named (mbox_short) and printing all of its lines.\n",
    "# pormpt for file name:\n",
    "file_name = input('Ener file name: ')\n",
    "file_name = file_name + '.txt'\n",
    "\n",
    "print() # creating gap to have a clean output.\n",
    "\n",
    "# using open to create a handle to file:\n",
    "file_handle = open(file_name, mode = 'r')\n",
    "# using for loop to iterate through each line in the mbox_short.txt file, until the ind (index) = 10, which means 10 lines.\n",
    "for ind, line in enumerate(file_handle):\n",
    "    print(line)\n",
    "    if ind == 10:\n",
    "        break\n"
   ]
  },
  {
   "cell_type": "code",
   "execution_count": 2,
   "metadata": {},
   "outputs": [
    {
     "name": "stdout",
     "output_type": "stream",
     "text": [
      "Enter file name:mbox_short\n",
      "\n",
      "0.8475\n",
      "\n",
      "0.6178\n",
      "\n",
      "0.6961\n",
      "\n",
      "0.7565\n",
      "\n",
      "0.7626\n",
      "\n",
      "0.7556\n",
      "\n",
      "0.7002\n",
      "\n",
      "0.7615\n",
      "\n",
      "0.7601\n",
      "\n",
      "0.7605\n",
      "\n",
      "0.6959\n",
      "\n",
      "0.7606\n",
      "\n",
      "0.7559\n",
      "\n",
      "0.7605\n",
      "\n",
      "0.6932\n",
      "\n",
      "0.7558\n",
      "\n",
      "0.6526\n",
      "\n",
      "0.6948\n",
      "\n",
      "0.6528\n",
      "\n",
      "0.7002\n",
      "\n",
      "0.7554\n",
      "\n",
      "0.6956\n",
      "\n",
      "0.6959\n",
      "\n",
      "0.7556\n",
      "\n",
      "0.9846\n",
      "\n",
      "0.8509\n",
      "\n",
      "0.9907\n",
      "\n"
     ]
    }
   ],
   "source": [
    "# reading a txt file named (mbox_short.txt) and searching for spam mails.\n",
    "# prompt for file name:\n",
    "file_name = input('Enter file name:')\n",
    "file_name = file_name + '.txt'\n",
    "# catching wrong file name by try & except block:\n",
    "try:\n",
    "    file_handle = open(file_name)\n",
    "except:\n",
    "    print('invalid file name')\n",
    "print()\n",
    "count = 0\n",
    "sums = 0\n",
    "for line in file_handle:\n",
    "    if line.startswith(\"X-DSPAM-Confidence:\"):\n",
    "        number_index = line.find(' ') + 1\n",
    "        number = line[number_index:]\n",
    "        print(number)"
   ]
  },
  {
   "cell_type": "markdown",
   "metadata": {},
   "source": [
    "___\n",
    "* we extracted all of the numbers we need, so we now we should count them, sum up and average them.\n",
    "___"
   ]
  },
  {
   "cell_type": "code",
   "execution_count": 3,
   "metadata": {},
   "outputs": [
    {
     "name": "stdout",
     "output_type": "stream",
     "text": [
      "Enter file name:mbox_short\n",
      "\n",
      "counts =  27\n",
      "summation of numbers= 20.269400000000005\n",
      "average= 0.7507185185185187\n"
     ]
    }
   ],
   "source": [
    "# reading a txt file named (mbox_short.txt) and searching for spam mails.\n",
    "# prompt for file name:\n",
    "file_name = input('Enter file name:')\n",
    "file_name = file_name + '.txt'\n",
    "# catching wrong file name by try & except block:\n",
    "try:\n",
    "    file_handle = open(file_name)\n",
    "except:\n",
    "    print('invalid file name')\n",
    "print()\n",
    "\n",
    "counts, sums = 0, 0       # initialize them to zero\n",
    "for line in file_handle:\n",
    "    # extracting requested format (spam founder)\n",
    "    if line.startswith(\"X-DSPAM-Confidence:\"):\n",
    "        number_index = line.find(' ') + 1\n",
    "        number = line[number_index:]\n",
    "        number = float(number)\n",
    "        counts = counts + 1\n",
    "        sums = sums + number\n",
    "        \n",
    "# printing results:\n",
    "print('counts = ', counts)\n",
    "print('summation of numbers=', sums)\n",
    "print('average=', sums/counts)"
   ]
  }
 ],
 "metadata": {
  "kernelspec": {
   "display_name": "Python 3",
   "language": "python",
   "name": "python3"
  },
  "language_info": {
   "codemirror_mode": {
    "name": "ipython",
    "version": 3
   },
   "file_extension": ".py",
   "mimetype": "text/x-python",
   "name": "python",
   "nbconvert_exporter": "python",
   "pygments_lexer": "ipython3",
   "version": "3.8.5"
  }
 },
 "nbformat": 4,
 "nbformat_minor": 4
}
