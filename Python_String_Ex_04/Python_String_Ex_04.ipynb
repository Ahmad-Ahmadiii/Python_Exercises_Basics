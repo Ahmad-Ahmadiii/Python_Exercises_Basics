{
 "cells": [
  {
   "cell_type": "markdown",
   "metadata": {},
   "source": [
    "## (Python Tutorial) \n",
    "#### from (Python  for  everybody books) by Prof Charles Severance\n",
    "#### (coding by: Ahmad Ahmadi) \n",
    "___\n",
    "___"
   ]
  },
  {
   "cell_type": "markdown",
   "metadata": {},
   "source": [
    "### Exercise 4: \n",
    "#### Level : <span style='color:green'> Basic </span>\n",
    " 1) Open the file romeo.txt and read it line by line. For each line, split the line into a list of words. The program should build a list of words. For each word on each line check to see if the word is already in the list and if not append it to the list. When the program completes, sort and print the resulting words in alphabetical order.\n",
    "___\n",
    "#### <span style='color:red'>Hint :</span>\n",
    "\n",
    "* **open():** open(file name, mode='r') -- make a handle to that specific file.\n",
    "* here file name.txt = words.txt\n",
    "* mode = 'r' means open a file for reading.\n",
    "* mode = 'w' means open a file for writing.\n",
    "* mode = 'a' means open a file for appending.\n",
    "* **string.split():** split(seperator, maxsplit) -- returns a list of splitted word.]\n",
    "* **sort():** sort() -- returns a list of sorted items alphabetically.\n",
    "* please note that in python;  **'A' < 'a'** and **'Z' < 'a'**\n",
    "* in general, Captical letters are less than small letters.\n",
    "\n",
    "___"
   ]
  },
  {
   "cell_type": "code",
   "execution_count": 1,
   "metadata": {},
   "outputs": [
    {
     "name": "stdout",
     "output_type": "stream",
     "text": [
      "Enter a file name: romeo\n",
      "\n",
      "['Arise', 'But', 'It', 'Juliet', 'Who', 'already', 'and', 'breaks', 'east', 'envious', 'fair', 'grie', 'is', 'kill', 'light', 'moon', 'pale', 'sick', 'soft', 'sun', 'the', 'through', 'what', 'window', 'with', 'yonder']\n"
     ]
    }
   ],
   "source": [
    "# open a file (romeo.txt), read through each words and sort them alphaberically.\n",
    "# \n",
    "file_name = input('Enter a file name: ')\n",
    "file_name = file_name + '.txt'\n",
    "try:\n",
    "    file_handle = open(file_name, 'r')\n",
    "except:\n",
    "    print('invalid file name!')\n",
    "# making code neat (optional you can remove it.)\n",
    "print() \n",
    "# defining an empty list:\n",
    "names_list = []\n",
    "# loop through each line using for loop:\n",
    "for line in file_handle:\n",
    "    # using split() method to split each line to separate words:\n",
    "    names = line.split()\n",
    "    # loop through each word in words list using for loop again:L\n",
    "    for name in names:\n",
    "        if name not in names_list:\n",
    "            # using append() method to add item at the end of the list:\n",
    "            names_list.append(name)\n",
    "        else:\n",
    "            continue\n",
    "# using sort() method to sort the final list alphabetically:\n",
    "names_list.sort()\n",
    "print(names_list)"
   ]
  },
  {
   "cell_type": "markdown",
   "metadata": {},
   "source": [
    "___\n",
    "* As you may note from above list, the all captical letters are less than small letters.\n",
    "* for clarity:\n",
    "* look at this example:\n",
    "___"
   ]
  },
  {
   "cell_type": "code",
   "execution_count": 2,
   "metadata": {},
   "outputs": [
    {
     "name": "stdout",
     "output_type": "stream",
     "text": [
      "is A < a ? True\n",
      "is Z< a ? True \n",
      "\n",
      "['Z', 'a', 'b', 'c']\n"
     ]
    }
   ],
   "source": [
    "print('is A < a ?', 'A'<'a' )\n",
    "print('is Z< a ?', 'Z' < 'a', '\\n' )\n",
    "\n",
    "characters_list = ['Z', 'a', 'b', 'c']\n",
    "characters_list.sort()\n",
    "\n",
    "print(characters_list)"
   ]
  }
 ],
 "metadata": {
  "kernelspec": {
   "display_name": "Python 3",
   "language": "python",
   "name": "python3"
  },
  "language_info": {
   "codemirror_mode": {
    "name": "ipython",
    "version": 3
   },
   "file_extension": ".py",
   "mimetype": "text/x-python",
   "name": "python",
   "nbconvert_exporter": "python",
   "pygments_lexer": "ipython3",
   "version": "3.8.5"
  }
 },
 "nbformat": 4,
 "nbformat_minor": 4
}
